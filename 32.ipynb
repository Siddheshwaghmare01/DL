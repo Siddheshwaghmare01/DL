import tensorflow as tf
from tensorflow.keras.preprocessing.image import ImageDataGenerator
from tensorflow.keras import layers, models, optimizers
import matplotlib.pyplot as plt
from sklearn.metrics import classification_report, confusion_matrix
import seaborn as sns
import os

# Set local path
data_dir = "Path to Dataset"

# Preprocess using ImageDataGenerator (both batch sizes)
datagen = ImageDataGenerator(rescale=1./255, validation_split=0.2)

train_32 = datagen.flow_from_directory(data_dir,
                                       target_size=(64, 64),
                                       batch_size=32,
                                       class_mode='categorical',
                                       subset='training',
                                       shuffle=True)

val_32 = datagen.flow_from_directory(data_dir,
                                     target_size=(64, 64),
                                     batch_size=32,
                                     class_mode='categorical',
                                     subset='validation',
                                     shuffle=False)

train_64 = datagen.flow_from_directory(data_dir,
                                       target_size=(64, 64),
                                       batch_size=64,
                                       class_mode='categorical',
                                       subset='training',
                                       shuffle=True)

val_64 = datagen.flow_from_directory(data_dir,
                                     target_size=(64, 64),
                                     batch_size=64,
                                     class_mode='categorical',
                                     subset='validation',
                                     shuffle=False)

# CNN model
def build_model(num_classes):
    model = models.Sequential()
    model.add(layers.Conv2D(16, (3,3), activation='relu', input_shape=(64, 64, 3)))
    model.add(layers.MaxPooling2D(2, 2))
    model.add(layers.Conv2D(32, (3,3), activation='relu'))
    model.add(layers.MaxPooling2D(2, 2))
    model.add(layers.Flatten())
    model.add(layers.Dense(64, activation='relu'))
    model.add(layers.Dense(num_classes, activation='softmax'))

    model.compile(optimizer=optimizers.Adam(learning_rate=0.0001),
                  loss='categorical_crossentropy',
                  metrics=['accuracy'])
    return model

# Train with batch size 32
model_32 = build_model(train_32.num_classes)
history_32 = model_32.fit(train_32, epochs=5, validation_data=val_32)

# Train with batch size 64
model_64 = build_model(train_64.num_classes)
history_64 = model_64.fit(train_64, epochs=5, validation_data=val_64)

# Plot Accuracy Comparison
plt.plot(history_32.history['val_accuracy'], label='Batch 32')
plt.plot(history_64.history['val_accuracy'], label='Batch 64')
plt.title('Validation Accuracy Comparison')
plt.xlabel('Epochs')
plt.ylabel('Accuracy')
plt.legend()
plt.grid()
plt.show()
