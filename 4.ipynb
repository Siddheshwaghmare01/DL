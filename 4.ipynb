#Statement 4 Use SGD optimizer with a learning rate of 0.01 to train a DNN on the Wildfire dataset, then evaluate precision, recall, and F1-score with supporting bar plots. 

#Make sure your dataset is structured like this 

#wildfire_dataset/
#├── train/
#│   ├── fire/
#│   └── no_fire/
#├── test/
#│   ├── fire/
#│   └── no_fire/



# Step 1: Install necessary libraries
!pip install tensorflow scikit-learn matplotlib --quiet

# Step 2: Import libraries
import numpy as np
import matplotlib.pyplot as plt
from sklearn.metrics import classification_report, precision_score, recall_score, f1_score
from tensorflow.keras.preprocessing.image import ImageDataGenerator
from tensorflow.keras.models import Sequential
from tensorflow.keras.layers import Dense, Flatten
from tensorflow.keras.optimizers import SGD

# Step 3: Set up data loaders
data_dir = "/content/wildfire_dataset"  # Change this if needed

img_size = (64, 64)
batch_size = 32

train_datagen = ImageDataGenerator(rescale=1./255)
test_datagen = ImageDataGenerator(rescale=1./255)

train_data = train_datagen.flow_from_directory(
    data_dir + "/train", target_size=img_size, batch_size=batch_size, class_mode='binary')

test_data = test_datagen.flow_from_directory(
    data_dir + "/test", target_size=img_size, batch_size=batch_size, class_mode='binary', shuffle=False)

# Step 4: Build simple DNN model
model = Sequential([
    Flatten(input_shape=(64, 64, 3)),
    Dense(128, activation='relu'),
    Dense(64, activation='relu'),
    Dense(1, activation='sigmoid')  # Binary classification
])

# Step 5: Compile using SGD optimizer
model.compile(optimizer=SGD(learning_rate=0.01),
              loss='binary_crossentropy',
              metrics=['accuracy'])

# Step 6: Train model
model.fit(train_data, epochs=10, validation_data=test_data)

# Step 7: Predict and evaluate
y_true = test_data.classes
y_pred_probs = model.predict(test_data)
y_pred = (y_pred_probs > 0.5).astype("int32").flatten()

# Classification report
report = classification_report(y_true, y_pred, target_names=["no_fire", "fire"], output_dict=True)
print("\nClassification Report:")
print(classification_report(y_true, y_pred, target_names=["no_fire", "fire"]))

# Step 8: Bar plots for precision, recall, F1-score
labels = ["no_fire", "fire"]
precision = [report[label]['precision'] for label in labels]
recall = [report[label]['recall'] for label in labels]
f1 = [report[label]['f1-score'] for label in labels]

x = np.arange(len(labels))
width = 0.25

plt.figure(figsize=(10, 6))
plt.bar(x - width, precision, width, label='Precision', color='skyblue')
plt.bar(x, recall, width, label='Recall', color='orange')
plt.bar(x + width, f1, width, label='F1-Score', color='green')

plt.xticks(x, labels)
plt.ylabel('Score')
plt.title('Precision, Recall, and F1-Score by Class')
plt.legend()
plt.grid(True)
plt.show()
