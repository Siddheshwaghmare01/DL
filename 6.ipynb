#Statement 6 Compare DNN training using Adam and SGD optimizers (both with a learning rate of 0.001) on the Wildfire dataset 

# Step 1: Install dependencies
!pip install tensorflow matplotlib scikit-learn

# Step 2: Import libraries
import tensorflow as tf
from tensorflow.keras.preprocessing.image import ImageDataGenerator
from tensorflow.keras import layers, models
import matplotlib.pyplot as plt

# Step 3: Set dataset paths
train_dir = 'path_to_train_folder'  # e.g., 'FireDataset/train'
val_dir = 'path_to_val_folder'      # e.g., 'FireDataset/val'

# Step 4: Preprocess the images
img_size = (128, 128)
batch_size = 32

datagen = ImageDataGenerator(rescale=1./255)

train_data = datagen.flow_from_directory(
    train_dir,
    target_size=img_size,
    batch_size=batch_size,
    class_mode='binary'
)

val_data = datagen.flow_from_directory(
    val_dir,
    target_size=img_size,
    batch_size=batch_size,
    class_mode='binary'
)

# Step 5: Define model architecture
def build_model():
    model = models.Sequential([
        layers.Input(shape=(*img_size, 3)),
        layers.Conv2D(32, (3,3), activation='relu'),
        layers.MaxPooling2D(2, 2),
        layers.Conv2D(64, (3,3), activation='relu'),
        layers.MaxPooling2D(2, 2),
        layers.Flatten(),
        layers.Dense(64, activation='relu'),
        layers.Dense(1, activation='sigmoid')
    ])
    return model

# Step 6: Train with Adam
model_adam = build_model()
model_adam.compile(optimizer=tf.keras.optimizers.Adam(learning_rate=0.001),
                   loss='binary_crossentropy',
                   metrics=['accuracy'])

history_adam = model_adam.fit(train_data, validation_data=val_data, epochs=10)

# Step 7: Train with SGD
model_sgd = build_model()
model_sgd.compile(optimizer=tf.keras.optimizers.SGD(learning_rate=0.001),
                  loss='binary_crossentropy',
                  metrics=['accuracy'])

history_sgd = model_sgd.fit(train_data, validation_data=val_data, epochs=10)

# Step 8: Plot and compare training
plt.figure(figsize=(10, 6))
plt.plot(history_adam.history['val_accuracy'], label='Adam - Val Accuracy', marker='o')
plt.plot(history_sgd.history['val_accuracy'], label='SGD - Val Accuracy', marker='s')
plt.title('Validation Accuracy Comparison: Adam vs SGD')
plt.xlabel('Epochs')
plt.ylabel('Accuracy')
plt.legend()
plt.grid(True)
plt.show()
